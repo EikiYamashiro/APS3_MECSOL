{
 "cells": [
  {
   "cell_type": "code",
   "execution_count": 1,
   "metadata": {},
   "outputs": [],
   "source": [
    "from funcoesTermosol import *\n",
    "import numpy as np\n",
    "import math"
   ]
  },
  {
   "cell_type": "code",
   "execution_count": 24,
   "metadata": {},
   "outputs": [
    {
     "data": {
      "image/png": "[encoded data removed]",
      "text/plain": [
       "<Figure size 432x288 with 1 Axes>"
      ]
     },
     "metadata": {
      "needs_background": "light"
     },
     "output_type": "display_data"
    }
   ],
   "source": [
    "input_data = \"entrada.xlsx\"\n",
    "[nn,N,nm,Inc,nc,F,nr,R] = importa(input_data)\n",
    "plota(N, Inc)"
   ]
  },
  {
   "cell_type": "code",
   "execution_count": 25,
   "metadata": {},
   "outputs": [],
   "source": [
    "# Comprimento do Membro (m)\n",
    "L = 1\n",
    "A = 2e-4\n",
    "E = 210e9"
   ]
  },
  {
   "cell_type": "code",
   "execution_count": 26,
   "metadata": {},
   "outputs": [
    {
     "name": "stdout",
     "output_type": "stream",
     "text": [
      "Matriz de Conectividade:\n",
      "\n",
      " [[-1  1  0]\n",
      " [ 0 -1  1]\n",
      " [ 1  0 -1]]\n",
      "____________________________________\n",
      " \n",
      "Matriz de Conectividade Transposta:\n",
      "\n",
      " [[-1  0  1]\n",
      " [ 1 -1  0]\n",
      " [ 0  1 -1]]\n"
     ]
    }
   ],
   "source": [
    "def vet_conec(ne):\n",
    "  conec_array = np.array(nn*[0])\n",
    "  n1 = int(Inc[ne, 0])\n",
    "  n2 = int(Inc[ne, 1])\n",
    "  conec_array[n1 - 1] = -1\n",
    "  conec_array[n2 - 1] = 1\n",
    "  return conec_array\n",
    "\n",
    "def mat_conec():\n",
    "  mat = []\n",
    "  for i in range(nm):\n",
    "    mat.append(vet_conec(i))\n",
    "  return np.array(mat)\n",
    "\n",
    "C = mat_conec()\n",
    "C_Transposto = C.T\n",
    "print(f'Matriz de Conectividade:\\n\\n {C}')\n",
    "print(\"____________________________________\")\n",
    "print(\" \")\n",
    "print(f'Matriz de Conectividade Transposta:\\n\\n {C_Transposto}')"
   ]
  },
  {
   "cell_type": "code",
   "execution_count": 27,
   "metadata": {},
   "outputs": [
    {
     "name": "stdout",
     "output_type": "stream",
     "text": [
      "Matriz dos Membros:\n",
      "\n",
      " [[ 0.   0.3 -0.3]\n",
      " [ 0.4  0.  -0.4]]\n"
     ]
    }
   ],
   "source": [
    "M = np.matmul(N, C_Transposto)\n",
    "print(f'Matriz dos Membros:\\n\\n {M}')"
   ]
  },
  {
   "cell_type": "code",
   "execution_count": 28,
   "metadata": {},
   "outputs": [],
   "source": [
    "def calc_Se(m_e, l):\n",
    "  S_e = (E*A/l)*(np.matmul(m_e.T, m_e)/(np.linalg.norm(m_e))**2)\n",
    "  if (np.linalg.norm(m_e))**2 == 0:\n",
    "    S_e = np.zeros((2, 2))\n",
    "  return S_e\n",
    "\n",
    "def calc_Ke(c_e, S_e):\n",
    "  mul_C = np.matmul(c_e.T, c_e)\n",
    "  K_e = (np.kron(mul_C, S_e))\n",
    "  return K_e\n",
    "\n",
    "def calc_l(element):\n",
    "  x1 = N[0][int(Inc[:,0][element]) - 1]\n",
    "  x2 = N[0][int(Inc[:, 1][element]) - 1]\n",
    "  y1 = N[1][int(Inc[:, 0][element]) - 1]\n",
    "  y2 = N[1][int(Inc[:, 1][element]) - 1]\n",
    "  l = np.sqrt((x2 - x1)**2 + (y2 - y1)**2)\n",
    "  return l"
   ]
  },
  {
   "cell_type": "code",
   "execution_count": 29,
   "metadata": {
    "scrolled": true
   },
   "outputs": [
    {
     "name": "stdout",
     "output_type": "stream",
     "text": [
      "Matriz S1:\n",
      " [[0.00e+00 0.00e+00]\n",
      " [0.00e+00 1.05e+08]]\n",
      "__________________\n",
      "Matriz K1:\n",
      " [[ 0.00e+00  0.00e+00 -0.00e+00 -0.00e+00  0.00e+00  0.00e+00]\n",
      " [ 0.00e+00  1.05e+08 -0.00e+00 -1.05e+08  0.00e+00  0.00e+00]\n",
      " [-0.00e+00 -0.00e+00  0.00e+00  0.00e+00  0.00e+00  0.00e+00]\n",
      " [-0.00e+00 -1.05e+08  0.00e+00  1.05e+08  0.00e+00  0.00e+00]\n",
      " [ 0.00e+00  0.00e+00  0.00e+00  0.00e+00  0.00e+00  0.00e+00]\n",
      " [ 0.00e+00  0.00e+00  0.00e+00  0.00e+00  0.00e+00  0.00e+00]]\n",
      "__________________\n",
      " \n",
      "Matriz S2:\n",
      " [[1.4e+08 0.0e+00]\n",
      " [0.0e+00 0.0e+00]]\n",
      "__________________\n",
      "Matriz K2:\n",
      " [[ 0.0e+00  0.0e+00  0.0e+00  0.0e+00  0.0e+00  0.0e+00]\n",
      " [ 0.0e+00  0.0e+00  0.0e+00  0.0e+00  0.0e+00  0.0e+00]\n",
      " [ 0.0e+00  0.0e+00  1.4e+08  0.0e+00 -1.4e+08 -0.0e+00]\n",
      " [ 0.0e+00  0.0e+00  0.0e+00  0.0e+00 -0.0e+00 -0.0e+00]\n",
      " [ 0.0e+00  0.0e+00 -1.4e+08 -0.0e+00  1.4e+08  0.0e+00]\n",
      " [ 0.0e+00  0.0e+00 -0.0e+00 -0.0e+00  0.0e+00  0.0e+00]]\n",
      "__________________\n",
      " \n",
      "Matriz S3:\n",
      " [[30240000.         40320000.        ]\n",
      " [40320000.         53760000.00000001]]\n",
      "__________________\n",
      "Matriz K3:\n",
      " [[ 30240000.          40320000.                 0.\n",
      "          0.         -30240000.         -40320000.        ]\n",
      " [ 40320000.          53760000.00000001         0.\n",
      "          0.         -40320000.         -53760000.00000001]\n",
      " [        0.                 0.                 0.\n",
      "          0.                 0.                 0.        ]\n",
      " [        0.                 0.                 0.\n",
      "          0.                 0.                 0.        ]\n",
      " [-30240000.         -40320000.                 0.\n",
      "          0.          30240000.          40320000.        ]\n",
      " [-40320000.         -53760000.00000001         0.\n",
      "          0.          40320000.          53760000.00000001]]\n",
      "__________________\n",
      " \n",
      "Matriz K_g:\n",
      " [[ 3.0240e+07  4.0320e+07  0.0000e+00  0.0000e+00 -3.0240e+07 -4.0320e+07]\n",
      " [ 4.0320e+07  1.5876e+08  0.0000e+00 -1.0500e+08 -4.0320e+07 -5.3760e+07]\n",
      " [ 0.0000e+00  0.0000e+00  1.4000e+08  0.0000e+00 -1.4000e+08  0.0000e+00]\n",
      " [ 0.0000e+00 -1.0500e+08  0.0000e+00  1.0500e+08  0.0000e+00  0.0000e+00]\n",
      " [-3.0240e+07 -4.0320e+07 -1.4000e+08  0.0000e+00  1.7024e+08  4.0320e+07]\n",
      " [-4.0320e+07 -5.3760e+07  0.0000e+00  0.0000e+00  4.0320e+07  5.3760e+07]]\n",
      "__________________\n"
     ]
    }
   ],
   "source": [
    "shape_Kg = 2*nn\n",
    "K_g = np.zeros((shape_Kg, shape_Kg))\n",
    "\n",
    "for element in range(0, nm):\n",
    "    \n",
    "  m_e = (M[:, element])[np.newaxis]\n",
    "  \n",
    "  m_e_transposed = m_e.T\n",
    "    \n",
    "  c_e = (C[element, :])[np.newaxis]\n",
    "  c_e_transposed = c_e.T\n",
    "  \n",
    "  S_e = calc_Se(m_e, calc_l(element))\n",
    "  print(f'Matriz S{element+1}:\\n {S_e}')\n",
    "  print(\"__________________\")\n",
    "  \n",
    "  K_e = calc_Ke(c_e, S_e)\n",
    "  print(f'Matriz K{element+1}:\\n {K_e}')\n",
    "  print(\"__________________\")\n",
    "  \n",
    "  K_g += K_e\n",
    "  print(\" \")\n",
    "\n",
    "print(f'Matriz K_g:\\n {K_g}')\n",
    "print(\"__________________\")"
   ]
  },
  {
   "cell_type": "code",
   "execution_count": 30,
   "metadata": {},
   "outputs": [
    {
     "name": "stdout",
     "output_type": "stream",
     "text": [
      "[[-9.52380952e-07]\n",
      " [ 1.60714286e-06]\n",
      " [-4.01785714e-06]]\n"
     ]
    }
   ],
   "source": [
    "def desloc_nodais(K_g, F):\n",
    "  u = np.linalg.solve(K_g, F)\n",
    "  return u\n",
    "\n",
    "def cond_contorno(Kg):\n",
    "  try:\n",
    "    K_g = np.delete(Kg, R.astype(int), 0)\n",
    "    K_g_new = np.delete(K_g, R.astype(int), 1)\n",
    "    F_new = np.delete(F, R.astype(int), 0)\n",
    "  except ValueError:\n",
    "      print( \"Not Defined\")\n",
    "  return K_g_new, F_new\n",
    "\n",
    "K_g_new, F_new = cond_contorno(K_g)\n",
    "u = desloc_nodais(K_g_new, F_new)\n",
    "print(u)"
   ]
  },
  {
   "cell_type": "code",
   "execution_count": 35,
   "metadata": {},
   "outputs": [
    {
     "name": "stdout",
     "output_type": "stream",
     "text": [
      "Matriz de Deslocamento Nodal:\n",
      " [[ 0.00000000e+00]\n",
      " [-9.52380952e-07]\n",
      " [ 0.00000000e+00]\n",
      " [ 0.00000000e+00]\n",
      " [ 1.60714286e-06]\n",
      " [-4.01785714e-06]]\n",
      "__________________\n"
     ]
    }
   ],
   "source": [
    "li = []\n",
    "def complete_u(u, R): \n",
    "    U_SIZE = u.shape[0] + R.shape[0]\n",
    "    u_ = np.zeros((U_SIZE, 1))\n",
    "    \n",
    "    for i in range(0, U_SIZE):\n",
    "        if i not in R.astype(int):\n",
    "            li.append(i)\n",
    "            \n",
    "    for i in range(0, u.shape[0]):\n",
    "        u_[li[i]] = u[i]\n",
    "        \n",
    "    return u_\n",
    "\n",
    "u_ = complete_u(u, R)\n",
    "print(f'Matriz de Deslocamento Nodal:\\n {u_}')\n",
    "print(\"__________________\")"
   ]
  },
  {
   "cell_type": "code",
   "execution_count": 37,
   "metadata": {},
   "outputs": [
    {
     "name": "stdout",
     "output_type": "stream",
     "text": [
      "Matriz das Reações de Apoio:\n",
      " [[  75.]\n",
      " [-225.]\n",
      " [ 100.]]\n",
      "__________________\n"
     ]
    }
   ],
   "source": [
    "def reac_apoio(K, u):\n",
    "    f = np.matmul(K, u)\n",
    "    f_new = np.delete(f, li)\n",
    "    return f_new\n",
    "\n",
    "support_reaction = reac_apoio(K_g, u_)\n",
    "p = support_reaction.reshape((support_reaction.shape[0],1))\n",
    "print(f'Matriz das Reações de Apoio:\\n {p}')\n",
    "print(\"__________________\")"
   ]
  },
  {
   "cell_type": "code",
   "execution_count": 42,
   "metadata": {},
   "outputs": [],
   "source": [
    "def sin_cos(x2, x1, y2, y1, l):\n",
    "  s = (y2 - y1)/l\n",
    "  c = (x2 - x1)/l\n",
    "  return s, c\n",
    "\n",
    "def calc_deform_esp_G(c, s, mat_u, l):\n",
    "  return (1/l)* np.matmul([-c, -s, c, s], mat_u)\n",
    "\n",
    "def calc_tensao_interna(c, s, mat_u, l):\n",
    "  return (E/l)*np.matmul([-c, -s, c, s], mat_u)\n",
    "\n",
    "deform_matriz = np.zeros((nm,1))\n",
    "tensao_matriz = np.zeros((nm,1))\n",
    "forca_matriz = np.zeros((nm,1))\n",
    "\n",
    "for i in range(0,nm):\n",
    "    \n",
    "    # Matriz u (deslocamento nodal) do Elemento\n",
    "    mat_u = [\n",
    "            u_[(int(Inc[i, 0])-1)*2], \n",
    "            u_[(int(Inc[i, 0])-1)*2 +1], \n",
    "            u_[(int(Inc[i, 1])-1)*2], \n",
    "            u_[int(Inc[i, 1]-1)*2 +1]\n",
    "    ]\n",
    "    \n",
    "    E = Inc[i, 2]\n",
    "    A = Inc[i, 3]\n",
    "    \n",
    "    x1 = N[0][int(Inc[:,0][i])-1]\n",
    "    y1 = N[1][int(Inc[:,0][i])-1]\n",
    "    x2 = N[0][int(Inc[:,1][i])-1]\n",
    "    y2 = N[1][int(Inc[:,1][i])-1]\n",
    "    \n",
    "    l = math.sqrt(((x1-x2)**2 + (y1-y2)**2))\n",
    "    \n",
    "    s,c = sin_cos(x2, x1, y2, y1, l)\n",
    "  \n",
    "    deform = calc_deform_esp_G(c, s, mat_u, l)\n",
    "    tensao = calc_tensao_interna(c, s, mat_u, l)\n",
    "    forca = tensao*A\n",
    "    \n",
    "    deform_matriz[i] = deform\n",
    "    tensao_matriz[i] = tensao\n",
    "    forca_matriz[i] = forca"
   ]
  },
  {
   "cell_type": "code",
   "execution_count": 43,
   "metadata": {},
   "outputs": [
    {
     "name": "stdout",
     "output_type": "stream",
     "text": [
      "[[ 500000.]\n",
      " [1125000.]\n",
      " [-625000.]]\n"
     ]
    }
   ],
   "source": [
    "print(tensao_matriz)"
   ]
  },
  {
   "cell_type": "code",
   "execution_count": null,
   "metadata": {},
   "outputs": [],
   "source": []
  }
 ],
 "metadata": {
  "kernelspec": {
   "display_name": "Python 3",
   "language": "python",
   "name": "python3"
  },
  "language_info": {
   "codemirror_mode": {
    "name": "ipython",
    "version": 3
   },
   "file_extension": ".py",
   "mimetype": "text/x-python",
   "name": "python",
   "nbconvert_exporter": "python",
   "pygments_lexer": "ipython3",
   "version": "3.9.1"
  }
 },
 "nbformat": 4,
 "nbformat_minor": 4
}
