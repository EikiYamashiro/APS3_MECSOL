{
 "cells": [
  {
   "cell_type": "code",
   "execution_count": 1,
   "metadata": {},
   "outputs": [],
   "source": [
    "import math\n",
    "import numpy as np"
   ]
  },
  {
   "cell_type": "code",
   "execution_count": 15,
   "metadata": {},
   "outputs": [],
   "source": [
    "E = 200e9\n",
    "A = 2e-2\n",
    "L = 2\n",
    "P = 50e3\n",
    "nodes = 11\n",
    "l = L/10"
   ]
  },
  {
   "cell_type": "code",
   "execution_count": 28,
   "metadata": {},
   "outputs": [],
   "source": [
    "# substituir list -> matriz\n",
    "c = []\n",
    "for i in range(0, (nodes-1)):\n",
    "    m = np.zeros((11,1))\n",
    "    m[i][0] = -1\n",
    "    m[i+1][0] = 1\n",
    "    c.append(m)"
   ]
  },
  {
   "cell_type": "code",
   "execution_count": 29,
   "metadata": {},
   "outputs": [],
   "source": [
    "S = (E*A)/l"
   ]
  },
  {
   "cell_type": "code",
   "execution_count": 46,
   "metadata": {},
   "outputs": [
    {
     "data": {
      "text/plain": [
       "10"
      ]
     },
     "execution_count": 46,
     "metadata": {},
     "output_type": "execute_result"
    }
   ],
   "source": [
    "#a = np.transpose(c[1])\n",
    "K = []\n",
    "for i in range(0, (nodes-1)):\n",
    "    K.append((c[i] * (np.transpose(c[i]))) * S)\n",
    "len(K)"
   ]
  },
  {
   "cell_type": "code",
   "execution_count": 52,
   "metadata": {},
   "outputs": [
    {
     "data": {
      "text/plain": [
       "numpy.ndarray"
      ]
     },
     "execution_count": 52,
     "metadata": {},
     "output_type": "execute_result"
    }
   ],
   "source": [
    "K_global = 0\n",
    "for i in range(0, (nodes-1)):\n",
    "    K_global += K[i]\n",
    "type(K_global)"
   ]
  },
  {
   "cell_type": "code",
   "execution_count": 65,
   "metadata": {},
   "outputs": [
    {
     "name": "stderr",
     "output_type": "stream",
     "text": [
      "<ipython-input-65-12dd0dd3fe7e>:4: FutureWarning: `rcond` parameter will change to the default of machine precision times ``max(M, N)`` where M and N are the input matrix dimensions.\n",
      "To use the future default and silence this warning we advise to pass `rcond=None`, to keep using the old, explicitly pass `rcond=-1`.\n",
      "  x = np.linalg.lstsq(K_global, U)\n"
     ]
    },
    {
     "data": {
      "text/plain": [
       "(array([[-1.25000000e-05],\n",
       "        [-1.00000000e-05],\n",
       "        [-7.50000000e-06],\n",
       "        [-5.00000000e-06],\n",
       "        [-2.50000000e-06],\n",
       "        [ 2.01754772e-20],\n",
       "        [ 2.50000000e-06],\n",
       "        [ 5.00000000e-06],\n",
       "        [ 7.50000000e-06],\n",
       "        [ 1.00000000e-05],\n",
       "        [ 1.25000000e-05]]),\n",
       " array([], dtype=float64),\n",
       " 10,\n",
       " array([7.83797189e+10, 7.36501413e+10, 6.61944294e+10, 5.66166005e+10,\n",
       "        4.56925935e+10, 3.43074065e+10, 2.33833995e+10, 1.38055706e+10,\n",
       "        6.34985869e+09, 1.62028106e+09, 1.47598941e-07]))"
      ]
     },
     "execution_count": 65,
     "metadata": {},
     "output_type": "execute_result"
    }
   ],
   "source": [
    "U = np.zeros((11,1))\n",
    "U[10][0] = 50e3\n",
    "U[0][0] = -50e3\n",
    "x = np.linalg.lstsq(K_global, U)\n",
    "x"
   ]
  },
  {
   "cell_type": "code",
   "execution_count": 61,
   "metadata": {},
   "outputs": [
    {
     "data": {
      "text/plain": [
       "(11, 1)"
      ]
     },
     "execution_count": 61,
     "metadata": {},
     "output_type": "execute_result"
    }
   ],
   "source": [
    "U.shape"
   ]
  },
  {
   "cell_type": "code",
   "execution_count": 62,
   "metadata": {},
   "outputs": [
    {
     "data": {
      "text/plain": [
       "(11, 11)"
      ]
     },
     "execution_count": 62,
     "metadata": {},
     "output_type": "execute_result"
    }
   ],
   "source": [
    "K_global.shape"
   ]
  },
  {
   "cell_type": "code",
   "execution_count": null,
   "metadata": {},
   "outputs": [],
   "source": []
  }
 ],
 "metadata": {
  "kernelspec": {
   "display_name": "Python 3",
   "language": "python",
   "name": "python3"
  },
  "language_info": {
   "codemirror_mode": {
    "name": "ipython",
    "version": 3
   },
   "file_extension": ".py",
   "mimetype": "text/x-python",
   "name": "python",
   "nbconvert_exporter": "python",
   "pygments_lexer": "ipython3",
   "version": "3.8.3"
  }
 },
 "nbformat": 4,
 "nbformat_minor": 4
}
